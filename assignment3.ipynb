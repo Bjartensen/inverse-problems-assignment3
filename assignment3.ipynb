{
 "cells": [
  {
   "cell_type": "markdown",
   "metadata": {},
   "source": [
    "# Assignment 3"
   ]
  },
  {
   "cell_type": "code",
   "execution_count": 1,
   "metadata": {},
   "outputs": [],
   "source": [
    "import numpy as np\n",
    "import matplotlib.pyplot as plt\n",
    "import math as ma\n",
    "import scipy.constants as const"
   ]
  },
  {
   "cell_type": "code",
   "execution_count": 99,
   "metadata": {},
   "outputs": [],
   "source": [
    "d = np.array([-0.00021453, -0.00024499])\n",
    "d_sigma = 1E-5"
   ]
  },
  {
   "cell_type": "markdown",
   "metadata": {},
   "source": [
    "# Joint prior"
   ]
  },
  {
   "cell_type": "markdown",
   "metadata": {},
   "source": [
    "Since the data have uncertainty $\\sigma$ and we have two data points, the space they live in is $[d_{obs} - \\sigma, d_{obs} + \\sigma]\\times[d_{obs} - \\sigma, d_{obs} + \\sigma]$. Since they are uniformly distributed the density is $\\frac{1}{(2\\sigma)\\times(2\\sigma)}=\\frac{1}{4\\sigma^2}$. Or,\n",
    "$$\n",
    "p_d = \\frac{1}{|\\mathcal{D}|}\n",
    "$$\n",
    "\n",
    "where $\\mathcal{D}$ is the 2D space the data live.\n",
    "\n",
    "The $\\rho$ all live in the space $[-500,0]\\ kg/m^3$, so for $\\Delta\\rho^{(1)}$\n",
    "\n",
    "$$\n",
    "p_r(\\Delta\\rho^{(1)}) = \\frac{1}{500}\n",
    "$$\n",
    "\n",
    "but for $(\\Delta\\rho^{(2)_1}, \\Delta\\rho^{(2)_2})$ they live in $[-500,0]\\times[-500,0]$ and so\n",
    "\n",
    "$$\n",
    "p_r(\\Delta\\rho^{(2)_1}, \\Delta\\rho^{(2)_2}) = \\frac{1}{500^2}\n",
    "$$\n",
    "\n",
    "The hyper parameter $k$ is also uniformly distributed and so\n",
    "\n",
    "$$\n",
    "p_k(k) = \\frac{1}{2}\n",
    "$$\n",
    "\n",
    "The full joint prior is then\n",
    "\n",
    "\n",
    "$$\n",
    "p_{d,m,k} = \\begin{cases} \n",
    "\\frac{1}{2}\\frac{1}{500}\\frac{1}{4\\sigma^2} & \\text{for k = 1 }\\wedge \\Delta\\rho\\in[-500,0]\\ \\wedge d\\in[d_{obs} \\pm \\sigma]^2\\\\\n",
    "\\frac{1}{2}\\frac{1}{500^2}\\frac{1}{4\\sigma^2} & \\text{for k = 2 }\\wedge \\Delta\\rho_1, \\Delta\\rho_2 \\in[-500,0]^2\\wedge d\\in[d_{obs} \\pm \\sigma]^2 \\\\\n",
    "0 \\text{ otherwise}\n",
    "\\end{cases}\n",
    "$$\n",
    "\n",
    "\n"
   ]
  },
  {
   "cell_type": "markdown",
   "metadata": {},
   "source": [
    "# Complete posterior\n",
    "\n",
    "Substituting the forward relation $g(\\Delta\\rho)$ for $d$ leaves the joint prior with the same terms but conditioned differently.\n",
    "\n",
    "So $\\Delta\\rho,k$ are left unchanged and the forwarded data still live within $\\mathcal{D}$. But now the values for $\\Delta\\rho$ that give a non-zero density must obey $g(\\Delta\\rho)\\in \\mathcal{D}$.\n",
    "\n",
    "The posterior will look something like this:\n",
    "\n",
    "$$\n",
    "p_{d,m,k}^{post} = \\begin{cases} \n",
    "\\frac{1}{2}\\frac{1}{(r_{max} - r_{min})}\\frac{1}{\\mathcal{D}} & \\text{for k = 1 }\\wedge g(s)\\in[d_{obs} \\pm \\sigma]   \\\\\n",
    "\\frac{1}{2}\\frac{1}{(r_{max} - r_{min})^2}\\frac{1}{\\mathcal{D}} & \\text{for k = 2 }\\wedge g(s_1), g(s_2) \\in[d_{obs} \\pm \\sigma] \\\\\n",
    "0 \\text{ otherwise}\n",
    "\\end{cases}\n",
    "$$\n",
    "\n",
    "\n",
    "To work out the values for $\\Delta\\rho\\in\\mathcal{S}_1$ and $(\\Delta\\rho_1,\\Delta\\rho_2)\\in\\mathcal{S}_2$ that $\\Delta\\rho$ live in I must invert the forward model\n",
    "\n",
    "\n",
    "\n",
    "\n",
    "$$\n",
    "\\Delta g(m) = 2\\pi G \\Delta\\rho [(b_{top} - h_{top}) - (b_{bot} - h_{bot})]\n",
    "$$\n",
    "\n",
    "$$\n",
    "\\Delta\\rho = \\frac{\\Delta g(m)}{2\\pi G [(b_{top} - h_{top}) - (b_{bot} - h_{bot})]}\n",
    "$$\n",
    "\n",
    "## $\\mathcal{S}_1$\n",
    "\n",
    "Let $L_{d1} = 2\\pi G [(b_{top} - h_{top}) - (b_{bot} - h_{bot})]$ and $L_{d2} = 2\\pi G [(b_{top} - h_{top}) - (b_{bot} - h_{bot})]$ be the total distance calculation for each of the data points at $d_1$ and $d_2$ respectively\n",
    "\n",
    "$$\n",
    "\\Delta\\rho = \\frac{\\Delta g(m)}{L}\n",
    "$$\n",
    "\n",
    "$$\n",
    "\\Delta\\rho \\in [\\frac{\\hat{d}_{min}}{L_{d1}}, \\frac{\\hat{d}_{max}}{L_{d2}}] = \\mathcal{S}_1\n",
    "$$\n",
    "\n",
    "\n",
    "Where $\\hat{d}_{min}=\\max{(d_{1,min}, d_{2,min})}$ and $\\hat{d}_{max}=\\min{(d_{1,max}, d_{2,max})}$"
   ]
  },
  {
   "cell_type": "markdown",
   "metadata": {},
   "source": [
    "## $\\mathcal{S}_2$\n",
    "\n",
    "The case for $k=2$ is slightly more complicated. I require that the forwarded data are within the data space. For instance, for the lower limit of the first datapoint\n",
    "\n",
    "$$\n",
    "d_{1,min} \\leq g(\\Delta\\rho_1) + g(\\Delta\\rho_2)\n",
    "$$\n",
    "\n",
    "Expanding the expression for $\\Delta g$\n",
    "\n",
    "$$\n",
    "2\\pi G \\left[2\\pi G\\Delta\\rho_1 [(b_{top} - h_{top}) - (b_{bot} - h_{bot})] + 2\\pi G\\Delta\\rho_2 [(b_{top} - h_{top}) - (b_{bot} - h_{bot})] \\right] = 2\\pi G\\left[a_1\\Delta\\rho_1 + a_2\\Delta\\rho_2\\right]\n",
    "$$\n",
    "\n",
    "where I have called the geometric factors for $a$. The respective $b$ and $t$ are not the same for both $\\Delta\\rho$.\n",
    "\n",
    "The restrictions on $\\Delta\\rho$ are therefore\n",
    "\n",
    "$$\n",
    "\\frac{d_{1,min}}{2\\pi G} \\leq \\left[a_{11}\\Delta\\rho_1 + a_{12}\\Delta\\rho_2\\right] \\leq \\frac{d_{1,max}}{2\\pi G}\n",
    "$$\n",
    "\n",
    "$$\n",
    "\\frac{d_{2,min}}{2\\pi G} \\leq \\left[a_{21}\\Delta\\rho_1 + a_{22}\\Delta\\rho_2\\right] \\leq \\frac{d_{2,max}}{2\\pi G}\n",
    "$$\n",
    "\n",
    "And with the computed values\n",
    "\n",
    "$$\n",
    "-5.3541\\cdot 10^5 \\leq \\left[1633.5\\cdot\\Delta\\rho_1 + 412.80\\cdot\\Delta\\rho_2\\right] \\leq -4.8772\\cdot 10^5\n",
    "$$\n",
    "\n",
    "$$\n",
    "-6.0805\\cdot 10^5 \\leq \\left[1866.5\\cdot\\Delta\\rho_1 + 470.34\\cdot\\Delta\\rho_2\\right] \\leq -5.6036\\cdot 10^5\n",
    "$$\n",
    "\n",
    "\n",
    "$$\n",
    "\\mathcal{S}_2 = \\left\\{\\Delta\\rho_1,\\Delta\\rho_2 \\middle|      -5.3541\\cdot 10^5 \\leq \\left[1633.5\\cdot\\Delta\\rho_1 + 412.80\\cdot\\Delta\\rho_2\\right] \\leq -4.8772\\cdot 10^5            \\wedge              -6.0805\\cdot 10^5 \\leq \\left[1866.5\\cdot\\Delta\\rho_1 + 470.34\\cdot\\Delta\\rho_2\\right] \\leq -5.6036\\cdot 10^5           \\right\\}\n",
    "$$"
   ]
  },
  {
   "cell_type": "markdown",
   "metadata": {},
   "source": [
    "The posterior finally looks like this\n",
    "\n",
    "$$\n",
    "p_{d,m,k}^{post} = \\begin{cases} \n",
    "\\frac{1}{2}\\frac{1}{500}\\frac{1}{4\\sigma^2} & \\text{for k = 1 }\\wedge \\Delta\\rho\\in\\mathcal{S}_1   \\\\\n",
    "\\frac{1}{2}\\frac{1}{500^2}\\frac{1}{4\\sigma^2} & \\text{for k = 2 }\\wedge (\\Delta\\rho_1, \\Delta\\rho_2)\\in\\mathcal{S}_2 \\\\\n",
    "0 \\text{ otherwise}\n",
    "\\end{cases}\n",
    "$$\n",
    "\n",
    "where $\\mathcal{S}_1$ and $\\mathcal{S}_2$ are the previously described sets."
   ]
  },
  {
   "cell_type": "markdown",
   "metadata": {},
   "source": [
    "To compute the integral for the solutions, since they have a constant density, it is enough to compute the line segment and area respectively.\n",
    "\n",
    "## For k=1\n",
    "\n",
    "It is bounded in the range\n",
    "\n",
    "$$\n",
    "\\Delta\\rho \\in \\mathcal{S}_1 = \\left[\\frac{\\hat{d}_{min}}{L_{d1}}, \\frac{\\hat{d}_{max}}{L_{d2}}\\right]\n",
    "$$"
   ]
  },
  {
   "cell_type": "code",
   "execution_count": 112,
   "metadata": {},
   "outputs": [
    {
     "name": "stdout",
     "output_type": "stream",
     "text": [
      "d_hat_min: -0.00022453, d_hat_min: -0.00023499\n",
      "[-0.00021453 -0.00024499]\n",
      "[-0.00022453 -0.00025499]\n",
      "[-0.00020453 -0.00023499]\n",
      "From -239.79 to -261.65, line segment: 21.856, integral: 5.464e+07\n"
     ]
    }
   ],
   "source": [
    "k1_density = (1/2) * (1/500) * (1/(4*d_sigma**2))\n",
    "k2_density = (1/2) * (1/500**2) * (1/(4*d_sigma**2))\n",
    "\n",
    "def k1_L():\n",
    "    \"\"\"\n",
    "    Computing the forward relation for k=1\n",
    "    Lots of computations so hopefully it is correct.\n",
    "    \"\"\"\n",
    "\n",
    "    radius = 4700\n",
    "\n",
    "    k1d1htop = 1000\n",
    "    k1d1hbot = k1d1htop+4400\n",
    "    k1d1btop = ma.sqrt(k1d1htop**2 + radius**2)\n",
    "    k1d1bbot = ma.sqrt(k1d1hbot**2 + radius**2)\n",
    "\n",
    "    k1d2htop = 500\n",
    "    k1d2hbot = k1d2htop+4400\n",
    "    k1d2btop = ma.sqrt(k1d2htop**2 + radius**2)\n",
    "    k1d2bbot = ma.sqrt(k1d2hbot**2 + radius**2)\n",
    "\n",
    "    Ld1 = ((k1d1btop-k1d1htop) - (k1d1bbot-k1d1hbot))\n",
    "    Ld2 = ((k1d2btop-k1d2htop) - (k1d2bbot-k1d2hbot))\n",
    "\n",
    "    return Ld1, Ld2\n",
    "\n",
    "Ld1, Ld2 = k1_L()\n",
    "\n",
    "\n",
    "\n",
    "d_hat_min = (d-d_sigma).max()\n",
    "d_hat_max = (d+d_sigma).min()\n",
    "print(f\"d_hat_min: {d_hat_min:.5g}, d_hat_min: {d_hat_max:.5g}\")\n",
    "print(d)\n",
    "print(d-d_sigma)\n",
    "print(d+d_sigma)\n",
    "\n",
    "\n",
    "k1_rho_min = d_hat_min/(2 * const.pi * const.G * Ld1)\n",
    "k1_rho_max = d_hat_max/(2 * const.pi * const.G * Ld2)\n",
    "k1_line_segment = k1_rho_max - k1_rho_min\n",
    "k1_sum = k1_density * k1_line_segment\n",
    "print(f\"From {k1_rho_max:.5g} to {k1_rho_min:.5g}, line segment: {k1_line_segment:.5g}, integral: {k1_sum:.5g}\")"
   ]
  },
  {
   "cell_type": "markdown",
   "metadata": {},
   "source": [
    "Integrating over $\\Delta\\rho$ for $k=1$ gives\n",
    "\n",
    "$$\n",
    "p_k^{post}(1) = 21.856 \\cdot \\frac{1}{2}\\frac{1}{500}\\frac{1}{4\\sigma^2} = 5.464\\cdot 10^7\n",
    "$$"
   ]
  },
  {
   "cell_type": "markdown",
   "metadata": {},
   "source": [
    "## For k=2\n",
    "\n",
    "To find the bounded area to integrate over I can write four equations of $\\rho_2$ as a function of $\\rho_1$, each data point bounded by lower and upper bound. For the lower bound of $d_1$\n",
    "\n",
    "$$\n",
    "\\frac{d_{1,min}}{2\\pi G} = a_{11}\\Delta\\rho_1 + a_{12}\\Delta\\rho_2\n",
    "$$\n",
    "\n",
    "$$\n",
    "\\frac{d_{1,min}}{2\\pi G} - a_{11}\\Delta\\rho_1 = a_{12}\\Delta\\rho_2\n",
    "$$\n",
    "\n",
    "\n",
    "$$\n",
    "\\Delta\\rho_2 = \\frac{\\frac{d_{1,min}}{2\\pi G} - a_{11}\\Delta\\rho_1}{a_{12}}\n",
    "$$\n",
    "\n",
    "Similarly,\n",
    "\n",
    "$$\n",
    "\\Delta\\rho_2 = \\frac{\\frac{d_{1,max}}{2\\pi G} - a_{11}\\Delta\\rho_1}{a_{12}}\n",
    "$$\n",
    "\n",
    "$$\n",
    "\\Delta\\rho_2 = \\frac{\\frac{d_{1,min}}{2\\pi G} - a_{21}\\Delta\\rho_1}{a_{22}}\n",
    "$$\n",
    "\n",
    "$$\n",
    "\\Delta\\rho_2 = \\frac{\\frac{d_{1,max}}{2\\pi G} - a_{21}\\Delta\\rho_1}{a_{22}}\n",
    "$$"
   ]
  },
  {
   "cell_type": "markdown",
   "metadata": {},
   "source": [
    "I then plot the functions to see the bounded area."
   ]
  },
  {
   "cell_type": "code",
   "execution_count": 91,
   "metadata": {},
   "outputs": [
    {
     "data": {
      "text/plain": [
       "(1633.4958610097956, 412.7991180456129, 1866.4867896451442, 470.33605088626246)"
      ]
     },
     "execution_count": 91,
     "metadata": {},
     "output_type": "execute_result"
    }
   ],
   "source": [
    "def k2_L():\n",
    "    \"\"\"\n",
    "    Computing the geometry factors for for k=2\n",
    "    \"\"\"\n",
    "\n",
    "    radius = 4700\n",
    "\n",
    "    ## Top cylinder\n",
    "    k2d1htopT = 1000\n",
    "    k2d1hbotT = k2d1htopT+3000\n",
    "    k2d1btopT = ma.sqrt(k2d1htopT**2 + radius**2)\n",
    "    k2d1bbotT = ma.sqrt(k2d1hbotT**2 + radius**2)\n",
    "\n",
    "    k2d2htopT = 500\n",
    "    k2d2hbotT = k2d2htopT+3000\n",
    "    k2d2btopT = ma.sqrt(k2d2htopT**2 + radius**2)\n",
    "    k2d2bbotT = ma.sqrt(k2d2hbotT**2 + radius**2)\n",
    "\n",
    "\n",
    "    ## Bot cylinder\n",
    "    k2d1htopB = 1000+3000\n",
    "    k2d1hbotB = k2d1htopB+1400\n",
    "    k2d1btopB = ma.sqrt(k2d1htopB**2 + radius**2)\n",
    "    k2d1bbotB = ma.sqrt(k2d1hbotB**2 + radius**2)\n",
    "\n",
    "    k2d2htopB = 500+3000\n",
    "    k2d2hbotB = k2d2htopB+1400\n",
    "    k2d2btopB = ma.sqrt(k2d2htopB**2 + radius**2)\n",
    "    k2d2bbotB = ma.sqrt(k2d2hbotB**2 + radius**2)\n",
    "\n",
    "    L11 = (k2d1btopT-k2d1htopT) - (k2d1bbotT-k2d1hbotT)\n",
    "    L12 = (k2d1btopB-k2d1htopB) - (k2d1bbotB-k2d1hbotB)\n",
    "    L21 = (k2d2btopT-k2d2htopT) - (k2d2bbotT-k2d2hbotT)\n",
    "    L22 = (k2d2btopB-k2d2htopB) - (k2d2bbotB-k2d2hbotB)\n",
    "    \n",
    "    return L11, L12, L21, L22\n",
    "\n",
    "a11, a12, a21, a22 = k2_L()\n",
    "k2_L()"
   ]
  },
  {
   "cell_type": "code",
   "execution_count": 113,
   "metadata": {},
   "outputs": [
    {
     "name": "stdout",
     "output_type": "stream",
     "text": [
      "d1min: -5.3541e+05, d1max: -4.8772e+05, d2min: -6.0805e+05, d2max: -5.6036e+05, \n"
     ]
    },
    {
     "data": {
      "text/plain": [
       "<matplotlib.legend.Legend at 0x1f0c0b99a90>"
      ]
     },
     "execution_count": 113,
     "metadata": {},
     "output_type": "execute_result"
    },
    {
     "data": {
      "image/png": "[encoded data removed]",
      "text/plain": [
       "<Figure size 640x480 with 1 Axes>"
      ]
     },
     "metadata": {},
     "output_type": "display_data"
    }
   ],
   "source": [
    "def rho2(rho1, dbound, a, b):\n",
    "    return (dbound - a*rho1)/b\n",
    "\n",
    "d1min = (d[0]-d_sigma)/(2*const.pi*const.G)\n",
    "d1max = (d[0]+d_sigma)/(2*const.pi*const.G)\n",
    "d2min = (d[1]-d_sigma)/(2*const.pi*const.G)\n",
    "d2max = (d[1]+d_sigma)/(2*const.pi*const.G)\n",
    "print(f\"d1min: {d1min:.5g}, d1max: {d1max:.5g}, d2min: {d2min:.5g}, d2max: {d2max:.5g}, \")\n",
    "\n",
    "x = np.linspace(-500, 0, 1000)\n",
    "y11 = rho2(x, d1min, a11, a12)\n",
    "\n",
    "y12 = rho2(x, d1max, a11, a12)\n",
    "\n",
    "y21 = rho2(x, d2min, a21, a22)\n",
    "\n",
    "y22 = rho2(x, d2max, a21, a22)\n",
    "\n",
    "\n",
    "plt.plot(x, y11, color=\"red\", linestyle=\"dashed\", label=\"$\\\\leq \\\\rho_2$ (restriction from $d_1$)\")\n",
    "plt.plot(x, y12, color=\"blue\", linestyle=\"dashed\", label=\"$\\\\geq \\\\rho_2 $ (restriction from $d_1$)\")\n",
    "plt.plot(x, y21, color=\"red\", linestyle=\"dotted\", label=\"$\\\\leq \\\\rho_2 $ (restriction from $d_2$)\") # These ones\n",
    "plt.plot(x, y22, color=\"blue\", linestyle=\"dotted\", label=\"$\\\\geq \\\\rho_2 $ (restriction from $d_2$)\") # These ones\n",
    "\n",
    "plt.ylabel(\"$\\\\rho_2$\")\n",
    "plt.xlabel(\"$\\\\rho_1$\")\n",
    "\n",
    "plt.xlim(-330,-170)\n",
    "plt.ylim(-500,0)\n",
    "\n",
    "plt.legend()"
   ]
  },
  {
   "cell_type": "markdown",
   "metadata": {},
   "source": [
    "The dotted lines are the enclosing ones, meaning the second component of the data is what restricts the domain.\n",
    "\n",
    "This is a parallelogram so I can just get the side lengths and distances between the lines and compute the area of a parallelogram."
   ]
  },
  {
   "cell_type": "markdown",
   "metadata": {},
   "source": [
    "$$\n",
    "\\Delta\\rho_2 = \\frac{\\frac{d_{1,min}}{2\\pi G} - a_{21}\\Delta\\rho_1}{a_{22}} = -\\frac{a_{21}}{a_{22}}\\Delta\\rho_1 + \\frac{a_{22}d_{1,min}}{2\\pi G}\n",
    "$$\n",
    "\n",
    "$$\n",
    "\\Delta\\rho_2 = \\frac{\\frac{d_{1,max}}{2\\pi G} - a_{21}\\Delta\\rho_1}{a_{22}} = -\\frac{a_{21}}{a_{22}}\\Delta\\rho_1 + \\frac{a_{22}d_{1,max}}{2\\pi G}\n",
    "$$\n",
    "\n",
    "Distance is\n",
    "\n",
    "$$\n",
    "d = \\frac{|\\frac{a_{22}d_{1,min}}{2\\pi G} - \\frac{a_{22}d_{1,max}}{2\\pi G}|}{\\sqrt{1 + \\frac{a_{21}^2}{a_{22}^2}}}\n",
    "$$\n"
   ]
  },
  {
   "cell_type": "code",
   "execution_count": 119,
   "metadata": {},
   "outputs": [
    {
     "name": "stdout",
     "output_type": "stream",
     "text": [
      "k2_sum: 63180320.98908366\n",
      "k1_sum: 54640139.18471216\n"
     ]
    }
   ],
   "source": [
    "def parallelogram():\n",
    "    # rho_1(rho_2): Inverse is the same as flipping the a terms\n",
    "    side_a = rho2(-500, (d[1]-d_sigma)/(2*const.pi*const.G), a22, a21) - rho2(0, (d[1]+d_sigma)/(2*const.pi*const.G), a22, a21)\n",
    "    side_b = 500\n",
    "    side_c = ma.sqrt(side_a**2 + side_b**2)\n",
    "\n",
    "    h = abs((d[1]-d_sigma)/(a22*2*const.pi*const.G) - (d[1]+d_sigma)/(a22*2*const.pi*const.G))\n",
    "    h = h/ma.sqrt(1 + (a21/a22)**2)\n",
    "\n",
    "    A = h * side_c\n",
    "\n",
    "    return A, h, side_c\n",
    "\n",
    "A,_,_ = parallelogram()\n",
    "\n",
    "k2_sum = k2_density * A\n",
    "\n",
    "\n",
    "\n",
    "print(f\"k2_sum: {k2_sum}\")\n",
    "print(f\"k1_sum: {k1_sum}\")"
   ]
  },
  {
   "cell_type": "markdown",
   "metadata": {},
   "source": [
    "For it to be a probability density I need the entire $k$-space to sum to 1.\n",
    "\n",
    "$$\n",
    "K(p_k^{post}(1) + p_k^{post}(2)) = 1\n",
    "$$\n",
    "\n",
    "$$\n",
    "K = \\frac{1}{p_k^{post}(1) + p_k^{post}(2)} = \\frac{1}{5.4640\\cdot 10^7 + 6.3180\\cdot 10^7}\n",
    "$$"
   ]
  },
  {
   "cell_type": "code",
   "execution_count": 122,
   "metadata": {},
   "outputs": [
    {
     "name": "stdout",
     "output_type": "stream",
     "text": [
      "Model k=1: 0.46376, model k=2: 0.53624\n"
     ]
    }
   ],
   "source": [
    "K = 1/(k1_sum + k2_sum)\n",
    "prob_k1 = K*k1_sum\n",
    "prob_k2 = K*k2_sum\n",
    "\n",
    "print(f\"Model k=1: {prob_k1:.5g}, model k=2: {prob_k2:.5g}\")"
   ]
  },
  {
   "cell_type": "markdown",
   "metadata": {},
   "source": [
    "# Conclusion"
   ]
  },
  {
   "cell_type": "markdown",
   "metadata": {},
   "source": [
    "I therefore conclude that the better model is the more complicated one. I think the difference is large enough to claim that. But if they were closer I, but $k=2$ higher probability that could still mean favoring a simpler model only for since we prefer simpler models that are otherwise competitive. But in this case $k=2$ better explains the data."
   ]
  },
  {
   "cell_type": "code",
   "execution_count": null,
   "metadata": {},
   "outputs": [],
   "source": []
  },
  {
   "cell_type": "code",
   "execution_count": null,
   "metadata": {},
   "outputs": [],
   "source": []
  },
  {
   "cell_type": "code",
   "execution_count": 69,
   "metadata": {},
   "outputs": [
    {
     "name": "stdout",
     "output_type": "stream",
     "text": [
      "d_hat_min: -0.00022453, d_hat_min: -0.00023499\n",
      "[-0.00021453 -0.00024499]\n",
      "[-0.00022453 -0.00025499]\n",
      "[-0.00020453 -0.00023499]\n"
     ]
    }
   ],
   "source": []
  },
  {
   "cell_type": "code",
   "execution_count": 74,
   "metadata": {},
   "outputs": [
    {
     "data": {
      "text/plain": [
       "-261.6498835023297"
      ]
     },
     "execution_count": 74,
     "metadata": {},
     "output_type": "execute_result"
    }
   ],
   "source": []
  },
  {
   "cell_type": "code",
   "execution_count": 75,
   "metadata": {},
   "outputs": [
    {
     "data": {
      "text/plain": [
       "-239.79382782844485"
      ]
     },
     "execution_count": 75,
     "metadata": {},
     "output_type": "execute_result"
    }
   ],
   "source": []
  },
  {
   "cell_type": "markdown",
   "metadata": {},
   "source": [
    "# Integrating the complete posterior over $m$ for each $k$"
   ]
  },
  {
   "cell_type": "code",
   "execution_count": 77,
   "metadata": {},
   "outputs": [
    {
     "data": {
      "text/plain": [
       "8.581314732288072e-07"
      ]
     },
     "execution_count": 77,
     "metadata": {},
     "output_type": "execute_result"
    }
   ],
   "source": [
    "_,_,Ld1,Ld2 = delta_gk1(0)\n",
    "Ld1"
   ]
  },
  {
   "cell_type": "code",
   "execution_count": 83,
   "metadata": {},
   "outputs": [],
   "source": [
    "_,_,Ld1T,Ld1B,Ld2T,Ld2B = delta_gk2(0, 0)\n"
   ]
  },
  {
   "cell_type": "markdown",
   "metadata": {},
   "source": [
    "## Computing the forward relations"
   ]
  },
  {
   "cell_type": "markdown",
   "metadata": {},
   "source": [
    "$$\n",
    "\\Delta g = 2\\pi G \\Delta\\rho [(b_{top} - h_{top}) - (b_{bot} - h_{bot})]\n",
    "$$"
   ]
  },
  {
   "cell_type": "code",
   "execution_count": 82,
   "metadata": {},
   "outputs": [],
   "source": [
    "def delta_gk1(delta_rho):\n",
    "    \"\"\"\n",
    "    Computing the forward relation for k=1\n",
    "    Lots of computations so hopefully it is correct.\n",
    "    \"\"\"\n",
    "\n",
    "    radius = 4700\n",
    "\n",
    "    k1d1htop = 1000\n",
    "    k1d1hbot = k1d1htop+4400\n",
    "    k1d1btop = ma.sqrt(k1d1htop**2 + radius**2)\n",
    "    k1d1bbot = ma.sqrt(k1d1hbot**2 + radius**2)\n",
    "\n",
    "    k1d2htop = 500\n",
    "    k1d2hbot = k1d2htop+4400\n",
    "    k1d2btop = ma.sqrt(k1d2htop**2 + radius**2)\n",
    "    k1d2bbot = ma.sqrt(k1d2hbot**2 + radius**2)\n",
    "\n",
    "    #print(f\"k1d1htop :{k1d1htop:.1f}, k1d1hbot :{k1d1hbot:.1f}, k1d1btop :{k1d1btop:.1f}, k1d1bbot :{k1d1bbot:.1f}\")\n",
    "    #print(f\"k1d2htop :{k1d2htop:.1f}, k1d2hbot :{k1d2hbot:.1f}, k1d2btop :{k1d2btop:.1f}, k1d2bbot :{k1d2bbot:.1f}\")\n",
    "    Ld1 = 2 * const.pi * const.G * ((k1d1btop-k1d1htop) - (k1d1bbot-k1d1hbot))\n",
    "    Ld2 = 2 * const.pi * const.G * ((k1d2btop-k1d2htop) - (k1d2bbot-k1d2hbot))\n",
    "    k1d1 = 2 * const.pi * const.G * delta_rho * ((k1d1btop-k1d1htop) - (k1d1bbot-k1d1hbot))\n",
    "    k1d2 = 2 * const.pi * const.G * delta_rho * ((k1d2btop-k1d2htop) - (k1d2bbot-k1d2hbot))\n",
    "\n",
    "    return k1d1, k1d2, Ld1, Ld2\n",
    "\n",
    "\n",
    "\n",
    "def delta_gk2(delta_rho1, delta_rho2):\n",
    "    \"\"\"\n",
    "    Computing the forward relation for k=2\n",
    "    \"\"\"\n",
    "\n",
    "    radius = 4700\n",
    "\n",
    "    ## Top cylinder\n",
    "    k2d1htopT = 1000\n",
    "    k2d1hbotT = k2d1htopT+3000\n",
    "    k2d1btopT = ma.sqrt(k2d1htopT**2 + radius**2)\n",
    "    k2d1bbotT = ma.sqrt(k2d1hbotT**2 + radius**2)\n",
    "\n",
    "    k2d2htopT = 500\n",
    "    k2d2hbotT = k2d2htopT+3000\n",
    "    k2d2btopT = ma.sqrt(k2d2htopT**2 + radius**2)\n",
    "    k2d2bbotT = ma.sqrt(k2d2hbotT**2 + radius**2)\n",
    "\n",
    "    #print()\n",
    "    #print(\"Upper cylinder\")\n",
    "    #print(f\"k2d1htopT :{k2d1htopT:.1f}, k2d1hbotT :{k2d1hbotT:.1f}, k2d1btopT :{k2d1btopT:.1f}, k2d1bbotT :{k2d1bbotT:.1f}\")\n",
    "    #print(f\"k2d2htopT :{k2d2htopT:.1f}, k2d2hbotT :{k2d2hbotT:.1f}, k2d2btopT :{k2d2btopT:.1f}, k2d2bbotT :{k2d2bbotT:.1f}\")\n",
    "\n",
    "    ## Bot cylinder\n",
    "    k2d1htopB = 1000+3000\n",
    "    k2d1hbotB = k2d1htopB+1400\n",
    "    k2d1btopB = ma.sqrt(k2d1htopB**2 + radius**2)\n",
    "    k2d1bbotB = ma.sqrt(k2d1hbotB**2 + radius**2)\n",
    "\n",
    "    k2d2htopB = 500+3000\n",
    "    k2d2hbotB = k2d2htopB+1400\n",
    "    k2d2btopB = ma.sqrt(k2d2htopB**2 + radius**2)\n",
    "    k2d2bbotB = ma.sqrt(k2d2hbotB**2 + radius**2)\n",
    "\n",
    "    #print()\n",
    "    #print(\"Lower cylinder\")\n",
    "    #print(f\"k2d1htopB :{k2d1htopB:.1f}, k2d1hbotB :{k2d1hbotB:.1f}, k2d1btopB :{k2d1btopB:.1f}, k2d1bbotB :{k2d1bbotB:.1f}\")\n",
    "    #print(f\"k2d2htopB :{k2d2htopB:.1f}, k2d2hbotB :{k2d2hbotB:.1f}, k2d2btopB :{k2d2btopB:.1f}, k2d2bbotB :{k2d2bbotB:.1f}\")\n",
    "\n",
    "\n",
    "\n",
    "    Ld1T = 2 * const.pi * const.G * ((k2d1btopT-k2d1htopT) - (k2d1bbotT-k2d1hbotT))\n",
    "    Ld1B = 2 * const.pi * const.G * ((k2d1btopB-k2d1htopB) - (k2d1bbotB-k2d1hbotB))\n",
    "    k2d1T = 2 * const.pi * const.G * delta_rho1 * ((k2d1btopT-k2d1htopT) - (k2d1bbotT-k2d1hbotT))\n",
    "    k2d1B = 2 * const.pi * const.G * delta_rho2 * ((k2d1btopB-k2d1htopB) - (k2d1bbotB-k2d1hbotB))\n",
    "    k2d1 = k2d1T+k2d1B\n",
    "\n",
    "    Ld2T = 2 * const.pi * const.G * ((k2d2btopT-k2d2htopT) - (k2d2bbotT-k2d2hbotT))\n",
    "    Ld2B = 2 * const.pi * const.G * ((k2d2btopB-k2d2htopB) - (k2d2bbotB-k2d2hbotB))\n",
    "    k2d2T = 2 * const.pi * const.G * delta_rho1 * ((k2d2btopT-k2d2htopT) - (k2d2bbotT-k2d2hbotT))\n",
    "    k2d2B = 2 * const.pi * const.G * delta_rho2 * ((k2d2btopB-k2d2htopB) - (k2d2bbotB-k2d2hbotB))\n",
    "    k2d2 = k2d2T+k2d2B\n",
    "\n",
    "    return k2d1, k2d2, Ld1T, Ld1B, Ld2T, Ld2B\n",
    "\n",
    "\n",
    "def posterior_k1(d,delta_rho):\n",
    "    \"\"\"\n",
    "    Computing the posterior.\n",
    "    Compute values for rho and check if inside d range.\n",
    "    \"\"\"\n",
    "    d_sigma = 1E-5\n",
    "\n",
    "    if not -500 <= delta_rho <= 0:\n",
    "        print(\"Outside parameter space.\")\n",
    "        return 0\n",
    "\n",
    "    delta_g = delta_gk1(delta_rho)\n",
    "    if d[0]-d_sigma <= delta_g[0] <= d[0]+d_sigma and d[1]-d_sigma <= delta_g[1] <= d[1]+d_sigma:\n",
    "        return (1/2) * (1/500) * (1/(4*d_sigma**2))\n",
    "    else:\n",
    "        return 0\n",
    "\n",
    "def posterior_k2(d,delta_rho1,delta_rho2):\n",
    "    \"\"\"\n",
    "    Computing the posterior.\n",
    "    Compute values for rho and check if inside d range.\n",
    "    \"\"\"\n",
    "    d_sigma = 1E-5\n",
    "    conditions = [\n",
    "        -500 <= delta_rho1 <= 0,\n",
    "        -500 <= delta_rho2 <= 0\n",
    "    ]\n",
    "    if not all(conditions):\n",
    "        print(\"Outside parameter space. k2\")\n",
    "        return 0\n",
    "\n",
    "    delta_g = delta_gk2(delta_rho1, delta_rho2)\n",
    "    if d[0]-d_sigma <= delta_g[0] <= d[0]+d_sigma and d[1]-d_sigma <= delta_g[1] <= d[1]+d_sigma:\n",
    "        return (1/2) * (1/500**2) * (1/(4*d_sigma**2))\n",
    "    else:\n",
    "        return 0\n",
    "\n",
    "\n",
    "\n",
    "def integrate_posterior(N, data, delta_rho_min, delta_rho_max):\n",
    "    delta_rhos = np.linspace(delta_rho_min,delta_rho_max,N)\n",
    "    data_arr = np.array([data] * N)\n",
    "    k1_arr = np.array([1] * N)\n",
    "    postk1 = []\n",
    "    postk2 = []\n",
    "\n",
    "    for i in range(N):\n",
    "        postk1.append(posterior_k1(data, delta_rhos[i]))\n",
    "\n",
    "    for i in range(N):\n",
    "        for j in range(N):\n",
    "            postk2.append(posterior_k2(data, delta_rhos[i], delta_rhos[j]))\n",
    "\n",
    "    postk1 = np.array(postk1)\n",
    "    postk2 = np.array(postk2)\n",
    "    return delta_rhos, postk1, postk2, postk1.sum()/N, postk2.sum()/(N**2)\n"
   ]
  },
  {
   "cell_type": "code",
   "execution_count": 36,
   "metadata": {},
   "outputs": [],
   "source": [
    "d = np.array([-0.00021453, -0.00024499])\n",
    "\n",
    "rhos, k1, k2, k1_sum, k2_sum = integrate_posterior(1000, d, -500, 0)"
   ]
  },
  {
   "cell_type": "code",
   "execution_count": 25,
   "metadata": {},
   "outputs": [
    {
     "ename": "ValueError",
     "evalue": "x and y must have same first dimension, but have shapes (10,) and (100,)",
     "output_type": "error",
     "traceback": [
      "\u001b[0;31m---------------------------------------------------------------------------\u001b[0m",
      "\u001b[0;31mValueError\u001b[0m                                Traceback (most recent call last)",
      "Cell \u001b[0;32mIn[25], line 2\u001b[0m\n\u001b[1;32m      1\u001b[0m plt\u001b[38;5;241m.\u001b[39mplot(rhos,k1,linestyle\u001b[38;5;241m=\u001b[39m\u001b[38;5;124m\"\u001b[39m\u001b[38;5;124mdashed\u001b[39m\u001b[38;5;124m\"\u001b[39m, label\u001b[38;5;241m=\u001b[39m\u001b[38;5;124m\"\u001b[39m\u001b[38;5;124mk1\u001b[39m\u001b[38;5;124m\"\u001b[39m)\n\u001b[0;32m----> 2\u001b[0m plt\u001b[38;5;241m.\u001b[39mplot(rhos,k2, label\u001b[38;5;241m=\u001b[39m\u001b[38;5;124m\"\u001b[39m\u001b[38;5;124mk2\u001b[39m\u001b[38;5;124m\"\u001b[39m)\n\u001b[1;32m      3\u001b[0m plt\u001b[38;5;241m.\u001b[39myscale(\u001b[38;5;124m\"\u001b[39m\u001b[38;5;124mlog\u001b[39m\u001b[38;5;124m\"\u001b[39m)\n\u001b[1;32m      4\u001b[0m plt\u001b[38;5;241m.\u001b[39mlegend()\n",
      "File \u001b[0;32m~/workspace/anaconda3/envs/appml_pip/lib/python3.11/site-packages/matplotlib/pyplot.py:3590\u001b[0m, in \u001b[0;36mplot\u001b[0;34m(scalex, scaley, data, *args, **kwargs)\u001b[0m\n\u001b[1;32m   3582\u001b[0m \u001b[38;5;129m@_copy_docstring_and_deprecators\u001b[39m(Axes\u001b[38;5;241m.\u001b[39mplot)\n\u001b[1;32m   3583\u001b[0m \u001b[38;5;28;01mdef\u001b[39;00m \u001b[38;5;21mplot\u001b[39m(\n\u001b[1;32m   3584\u001b[0m     \u001b[38;5;241m*\u001b[39margs: \u001b[38;5;28mfloat\u001b[39m \u001b[38;5;241m|\u001b[39m ArrayLike \u001b[38;5;241m|\u001b[39m \u001b[38;5;28mstr\u001b[39m,\n\u001b[0;32m   (...)\u001b[0m\n\u001b[1;32m   3588\u001b[0m     \u001b[38;5;241m*\u001b[39m\u001b[38;5;241m*\u001b[39mkwargs,\n\u001b[1;32m   3589\u001b[0m ) \u001b[38;5;241m-\u001b[39m\u001b[38;5;241m>\u001b[39m \u001b[38;5;28mlist\u001b[39m[Line2D]:\n\u001b[0;32m-> 3590\u001b[0m     \u001b[38;5;28;01mreturn\u001b[39;00m gca()\u001b[38;5;241m.\u001b[39mplot(\n\u001b[1;32m   3591\u001b[0m         \u001b[38;5;241m*\u001b[39margs,\n\u001b[1;32m   3592\u001b[0m         scalex\u001b[38;5;241m=\u001b[39mscalex,\n\u001b[1;32m   3593\u001b[0m         scaley\u001b[38;5;241m=\u001b[39mscaley,\n\u001b[1;32m   3594\u001b[0m         \u001b[38;5;241m*\u001b[39m\u001b[38;5;241m*\u001b[39m({\u001b[38;5;124m\"\u001b[39m\u001b[38;5;124mdata\u001b[39m\u001b[38;5;124m\"\u001b[39m: data} \u001b[38;5;28;01mif\u001b[39;00m data \u001b[38;5;129;01mis\u001b[39;00m \u001b[38;5;129;01mnot\u001b[39;00m \u001b[38;5;28;01mNone\u001b[39;00m \u001b[38;5;28;01melse\u001b[39;00m {}),\n\u001b[1;32m   3595\u001b[0m         \u001b[38;5;241m*\u001b[39m\u001b[38;5;241m*\u001b[39mkwargs,\n\u001b[1;32m   3596\u001b[0m     )\n",
      "File \u001b[0;32m~/workspace/anaconda3/envs/appml_pip/lib/python3.11/site-packages/matplotlib/axes/_axes.py:1724\u001b[0m, in \u001b[0;36mAxes.plot\u001b[0;34m(self, scalex, scaley, data, *args, **kwargs)\u001b[0m\n\u001b[1;32m   1481\u001b[0m \u001b[38;5;250m\u001b[39m\u001b[38;5;124;03m\"\"\"\u001b[39;00m\n\u001b[1;32m   1482\u001b[0m \u001b[38;5;124;03mPlot y versus x as lines and/or markers.\u001b[39;00m\n\u001b[1;32m   1483\u001b[0m \n\u001b[0;32m   (...)\u001b[0m\n\u001b[1;32m   1721\u001b[0m \u001b[38;5;124;03m(``'green'``) or hex strings (``'#008000'``).\u001b[39;00m\n\u001b[1;32m   1722\u001b[0m \u001b[38;5;124;03m\"\"\"\u001b[39;00m\n\u001b[1;32m   1723\u001b[0m kwargs \u001b[38;5;241m=\u001b[39m cbook\u001b[38;5;241m.\u001b[39mnormalize_kwargs(kwargs, mlines\u001b[38;5;241m.\u001b[39mLine2D)\n\u001b[0;32m-> 1724\u001b[0m lines \u001b[38;5;241m=\u001b[39m [\u001b[38;5;241m*\u001b[39m\u001b[38;5;28mself\u001b[39m\u001b[38;5;241m.\u001b[39m_get_lines(\u001b[38;5;28mself\u001b[39m, \u001b[38;5;241m*\u001b[39margs, data\u001b[38;5;241m=\u001b[39mdata, \u001b[38;5;241m*\u001b[39m\u001b[38;5;241m*\u001b[39mkwargs)]\n\u001b[1;32m   1725\u001b[0m \u001b[38;5;28;01mfor\u001b[39;00m line \u001b[38;5;129;01min\u001b[39;00m lines:\n\u001b[1;32m   1726\u001b[0m     \u001b[38;5;28mself\u001b[39m\u001b[38;5;241m.\u001b[39madd_line(line)\n",
      "File \u001b[0;32m~/workspace/anaconda3/envs/appml_pip/lib/python3.11/site-packages/matplotlib/axes/_base.py:303\u001b[0m, in \u001b[0;36m_process_plot_var_args.__call__\u001b[0;34m(self, axes, data, *args, **kwargs)\u001b[0m\n\u001b[1;32m    301\u001b[0m     this \u001b[38;5;241m+\u001b[39m\u001b[38;5;241m=\u001b[39m args[\u001b[38;5;241m0\u001b[39m],\n\u001b[1;32m    302\u001b[0m     args \u001b[38;5;241m=\u001b[39m args[\u001b[38;5;241m1\u001b[39m:]\n\u001b[0;32m--> 303\u001b[0m \u001b[38;5;28;01myield from\u001b[39;00m \u001b[38;5;28mself\u001b[39m\u001b[38;5;241m.\u001b[39m_plot_args(\n\u001b[1;32m    304\u001b[0m     axes, this, kwargs, ambiguous_fmt_datakey\u001b[38;5;241m=\u001b[39mambiguous_fmt_datakey)\n",
      "File \u001b[0;32m~/workspace/anaconda3/envs/appml_pip/lib/python3.11/site-packages/matplotlib/axes/_base.py:499\u001b[0m, in \u001b[0;36m_process_plot_var_args._plot_args\u001b[0;34m(self, axes, tup, kwargs, return_kwargs, ambiguous_fmt_datakey)\u001b[0m\n\u001b[1;32m    496\u001b[0m     axes\u001b[38;5;241m.\u001b[39myaxis\u001b[38;5;241m.\u001b[39mupdate_units(y)\n\u001b[1;32m    498\u001b[0m \u001b[38;5;28;01mif\u001b[39;00m x\u001b[38;5;241m.\u001b[39mshape[\u001b[38;5;241m0\u001b[39m] \u001b[38;5;241m!=\u001b[39m y\u001b[38;5;241m.\u001b[39mshape[\u001b[38;5;241m0\u001b[39m]:\n\u001b[0;32m--> 499\u001b[0m     \u001b[38;5;28;01mraise\u001b[39;00m \u001b[38;5;167;01mValueError\u001b[39;00m(\u001b[38;5;124mf\u001b[39m\u001b[38;5;124m\"\u001b[39m\u001b[38;5;124mx and y must have same first dimension, but \u001b[39m\u001b[38;5;124m\"\u001b[39m\n\u001b[1;32m    500\u001b[0m                      \u001b[38;5;124mf\u001b[39m\u001b[38;5;124m\"\u001b[39m\u001b[38;5;124mhave shapes \u001b[39m\u001b[38;5;132;01m{\u001b[39;00mx\u001b[38;5;241m.\u001b[39mshape\u001b[38;5;132;01m}\u001b[39;00m\u001b[38;5;124m and \u001b[39m\u001b[38;5;132;01m{\u001b[39;00my\u001b[38;5;241m.\u001b[39mshape\u001b[38;5;132;01m}\u001b[39;00m\u001b[38;5;124m\"\u001b[39m)\n\u001b[1;32m    501\u001b[0m \u001b[38;5;28;01mif\u001b[39;00m x\u001b[38;5;241m.\u001b[39mndim \u001b[38;5;241m>\u001b[39m \u001b[38;5;241m2\u001b[39m \u001b[38;5;129;01mor\u001b[39;00m y\u001b[38;5;241m.\u001b[39mndim \u001b[38;5;241m>\u001b[39m \u001b[38;5;241m2\u001b[39m:\n\u001b[1;32m    502\u001b[0m     \u001b[38;5;28;01mraise\u001b[39;00m \u001b[38;5;167;01mValueError\u001b[39;00m(\u001b[38;5;124mf\u001b[39m\u001b[38;5;124m\"\u001b[39m\u001b[38;5;124mx and y can be no greater than 2D, but have \u001b[39m\u001b[38;5;124m\"\u001b[39m\n\u001b[1;32m    503\u001b[0m                      \u001b[38;5;124mf\u001b[39m\u001b[38;5;124m\"\u001b[39m\u001b[38;5;124mshapes \u001b[39m\u001b[38;5;132;01m{\u001b[39;00mx\u001b[38;5;241m.\u001b[39mshape\u001b[38;5;132;01m}\u001b[39;00m\u001b[38;5;124m and \u001b[39m\u001b[38;5;132;01m{\u001b[39;00my\u001b[38;5;241m.\u001b[39mshape\u001b[38;5;132;01m}\u001b[39;00m\u001b[38;5;124m\"\u001b[39m)\n",
      "\u001b[0;31mValueError\u001b[0m: x and y must have same first dimension, but have shapes (10,) and (100,)"
     ]
    },
    {
     "data": {
      "image/png": "[encoded data removed]",
      "text/plain": [
       "<Figure size 640x480 with 1 Axes>"
      ]
     },
     "metadata": {},
     "output_type": "display_data"
    }
   ],
   "source": [
    "plt.plot(rhos,k1,linestyle=\"dashed\", label=\"k1\")\n",
    "plt.plot(rhos,k2, label=\"k2\")\n",
    "plt.yscale(\"log\")\n",
    "plt.legend()"
   ]
  },
  {
   "cell_type": "code",
   "execution_count": 40,
   "metadata": {},
   "outputs": [
    {
     "data": {
      "text/plain": [
       "99999.99999999997"
      ]
     },
     "execution_count": 40,
     "metadata": {},
     "output_type": "execute_result"
    }
   ],
   "source": [
    "k1_sum"
   ]
  },
  {
   "cell_type": "code",
   "execution_count": 41,
   "metadata": {},
   "outputs": [
    {
     "data": {
      "text/plain": [
       "255.25999999999996"
      ]
     },
     "execution_count": 41,
     "metadata": {},
     "output_type": "execute_result"
    }
   ],
   "source": [
    "k2_sum"
   ]
  },
  {
   "cell_type": "code",
   "execution_count": 42,
   "metadata": {},
   "outputs": [
    {
     "data": {
      "text/plain": [
       "391.75742380318104"
      ]
     },
     "execution_count": 42,
     "metadata": {},
     "output_type": "execute_result"
    }
   ],
   "source": [
    "k1_sum/k2_sum"
   ]
  },
  {
   "cell_type": "code",
   "execution_count": 3,
   "metadata": {},
   "outputs": [
    {
     "data": {
      "text/plain": [
       "1e-05"
      ]
     },
     "execution_count": 3,
     "metadata": {},
     "output_type": "execute_result"
    }
   ],
   "source": [
    "1E-5"
   ]
  },
  {
   "cell_type": "code",
   "execution_count": 3,
   "metadata": {},
   "outputs": [
    {
     "data": {
      "text/plain": [
       "(-8.581314732288073e-05, -9.799668412154391e-05)"
      ]
     },
     "execution_count": 3,
     "metadata": {},
     "output_type": "execute_result"
    }
   ],
   "source": [
    "gk2(-100)"
   ]
  },
  {
   "cell_type": "code",
   "execution_count": 63,
   "metadata": {},
   "outputs": [
    {
     "data": {
      "text/plain": [
       "<matplotlib.lines.Line2D at 0x2879fd34f50>"
      ]
     },
     "execution_count": 63,
     "metadata": {},
     "output_type": "execute_result"
    },
    {
     "data": {
      "image/png": "[encoded data removed]",
      "text/plain": [
       "<Figure size 640x480 with 1 Axes>"
      ]
     },
     "metadata": {},
     "output_type": "display_data"
    }
   ],
   "source": [
    "delta_gk1(-100)\n",
    "x = np.linspace(-500,0,100)\n",
    "y = np.vectorize(delta_gk1)(x)\n",
    "plt.plot(x,y[1])\n",
    "plt.axhline(d[1]+1E-5)\n",
    "plt.axhline(d[1]-1E-5)"
   ]
  },
  {
   "cell_type": "code",
   "execution_count": 67,
   "metadata": {},
   "outputs": [
    {
     "data": {
      "text/plain": [
       "(np.float64(-0.0004290657366144036), np.float64(-0.0004899834206077196))"
      ]
     },
     "execution_count": 67,
     "metadata": {},
     "output_type": "execute_result"
    }
   ],
   "source": [
    "zipped = list(zip(*y))\n",
    "zipped[0]"
   ]
  },
  {
   "cell_type": "code",
   "execution_count": null,
   "metadata": {},
   "outputs": [],
   "source": [
    "adsf"
   ]
  },
  {
   "cell_type": "markdown",
   "metadata": {},
   "source": [
    "Questions for Connor\n",
    "\n",
    "1. Correct to sum up contributions of top and bottom cylinder?\n",
    "2. For specific values (-250 k1) I get a large number.\n",
    "\n",
    "\n"
   ]
  }
 ],
 "metadata": {
  "kernelspec": {
   "display_name": "appstat",
   "language": "python",
   "name": "python3"
  },
  "language_info": {
   "codemirror_mode": {
    "name": "ipython",
    "version": 3
   },
   "file_extension": ".py",
   "mimetype": "text/x-python",
   "name": "python",
   "nbconvert_exporter": "python",
   "pygments_lexer": "ipython3",
   "version": "3.13.0"
  }
 },
 "nbformat": 4,
 "nbformat_minor": 4
}
