{
 "cells": [
  {
   "cell_type": "markdown",
   "metadata": {},
   "source": [
    "# Assignment 3"
   ]
  },
  {
   "cell_type": "code",
   "execution_count": 1,
   "metadata": {},
   "outputs": [],
   "source": [
    "import numpy as np\n",
    "import matplotlib.pyplot as plt\n",
    "import math as ma\n",
    "import scipy.constants as const"
   ]
  },
  {
   "cell_type": "code",
   "execution_count": 21,
   "metadata": {},
   "outputs": [
    {
     "data": {
      "text/plain": [
       "3.141592653589793"
      ]
     },
     "execution_count": 21,
     "metadata": {},
     "output_type": "execute_result"
    }
   ],
   "source": [
    "const.gravitational_constant\n",
    "const.pi"
   ]
  },
  {
   "cell_type": "markdown",
   "metadata": {},
   "source": [
    "# Joint prior"
   ]
  },
  {
   "cell_type": "markdown",
   "metadata": {},
   "source": [
    "The components of the joint prior are\n",
    "\n",
    "Since the data have uncertainty $\\sigma$ and we have two data points, the space they live in is $[d_{obs} - \\sigma, d_{obs} + \\sigma]\\times[d_{obs} - \\sigma, d_{obs} + \\sigma]$. Since they are uniformly distributed the density is $\\frac{1}{(2\\sigma)\\times(2\\sigma)}=\\frac{1}{4\\sigma^2}$. Or,\n",
    "$$\n",
    "p_d = \\frac{1}{|\\mathcal{D}|}\n",
    "$$\n",
    "\n",
    "where $\\mathcal{D}$ is the space the 2D space the data live.\n",
    "\n",
    "The $\\rho$ all live in the space $[-500,0]\\ kg/m^3$, so for $\\Delta\\rho^{(1)}$\n",
    "\n",
    "$$\n",
    "p_r(\\Delta\\rho^{(1)}) = \\frac{1}{500}\n",
    "$$\n",
    "\n",
    "but for $(\\Delta\\rho^{(2)_1}, \\Delta\\rho^{(2)_2})$ they live in $[-500,0]\\times[-500,0]$ and so\n",
    "\n",
    "$$\n",
    "p_r(\\Delta\\rho^{(2)_1}, \\Delta\\rho^{(2)_2}) = \\frac{1}{500^2}\n",
    "$$\n",
    "\n",
    "The hyper parameter $k$ is also uniformly distributed and so\n",
    "\n",
    "$$\n",
    "p_k(k) = \\frac{1}{2}\n",
    "$$\n",
    "\n",
    "The full joint prior is then\n",
    "\n",
    "\n",
    "$$\n",
    "p_{d,m,k} = \\begin{cases} \n",
    "\\frac{1}{2}\\frac{1}{(r_{max} - r_{min})}\\frac{1}{\\mathcal{D}} & \\text{for k = 1 }\\wedge s\\in[-500,0]   \\\\\n",
    "\\frac{1}{2}\\frac{1}{(r_{max} - r_{min})^2}\\frac{1}{\\mathcal{D}} & \\text{for k = 2 }\\wedge s\\in[-500,0]^2 \\\\\n",
    "0 \\text{ otherwise}\n",
    "\\end{cases}\n",
    "$$\n",
    "\n",
    "\n",
    "# Complete posterior\n",
    "\n",
    "Substituting the forward relation $g(m)$ for $d$ leaves the joint prior with the same terms but conditioned differently. $s,k$ are left unchanged and the forwarded data still live within $D$. But now the values for $m$ that give a non-zero density must obey $g(m)\\in D$. So the posterior is\n",
    "\n",
    "$$\n",
    "p_{d,m,k}^{post} = \\begin{cases} \n",
    "\\frac{1}{2}\\frac{1}{(r_{max} - r_{min})}\\frac{1}{\\mathcal{D}} & \\text{for k = 1 }\\wedge g(s)\\in[d_{obs} \\pm \\sigma]   \\\\\n",
    "\\frac{1}{2}\\frac{1}{(r_{max} - r_{min})^2}\\frac{1}{\\mathcal{D}} & \\text{for k = 2 }\\wedge g(s_1), g(s_2) \\in[d_{obs} \\pm \\sigma] \\\\\n",
    "0 \\text{ otherwise}\n",
    "\\end{cases}\n",
    "$$\n",
    "\n",
    "\n",
    "The change is that for some values of $s$ that might produce $g$ that are outside of $[d_{obs}\\pm\\sigma]$.\n",
    "\n",
    "the posterior will look the same but m is conditioned such that g(m) must be in D.\n",
    "\n",
    "Same probabilities, since we keep m,k, but it would give 0 if m is outside some region.\n",
    "\n",
    "Support distribution changes."
   ]
  },
  {
   "cell_type": "markdown",
   "metadata": {},
   "source": [
    "# Integrating the complete posterior over $m$ for each $k$"
   ]
  },
  {
   "cell_type": "code",
   "execution_count": null,
   "metadata": {},
   "outputs": [],
   "source": []
  },
  {
   "cell_type": "markdown",
   "metadata": {},
   "source": [
    "## Computing the forward relations"
   ]
  },
  {
   "cell_type": "markdown",
   "metadata": {},
   "source": [
    "$$\n",
    "\\Delta g = 2\\pi G \\Delta\\rho [(b_{top} - h_{top}) - (b_{bot} - h_{bot})]\n",
    "$$"
   ]
  },
  {
   "cell_type": "code",
   "execution_count": 2,
   "metadata": {},
   "outputs": [],
   "source": [
    "\n",
    "def k1(delta_rho):\n",
    "    \"\"\"\n",
    "    Computing the forward relation for k=1\n",
    "    Lots of computations so hopefully it is correct.\n",
    "    \"\"\"\n",
    "\n",
    "    radius = 4700\n",
    "\n",
    "    k1d1htop = 1000\n",
    "    k1d1hbot = k1d1htop+4400\n",
    "    k1d1btop = ma.sqrt(k1d1htop**2 + radius**2)\n",
    "    k1d1bbot = ma.sqrt(k1d1hbot**2 + radius**2)\n",
    "\n",
    "    k1d2htop = 500\n",
    "    k1d2hbot = k1d2htop+4400\n",
    "    k1d2btop = ma.sqrt(k1d2htop**2 + radius**2)\n",
    "    k1d2bbot = ma.sqrt(k1d2hbot**2 + radius**2)\n",
    "\n",
    "    #print(f\"k1d1htop :{k1d1htop:.1f}, k1d1hbot :{k1d1hbot:.1f}, k1d1btop :{k1d1btop:.1f}, k1d1bbot :{k1d1bbot:.1f}\")\n",
    "    #print(f\"k1d2htop :{k1d2htop:.1f}, k1d2hbot :{k1d2hbot:.1f}, k1d2btop :{k1d2btop:.1f}, k1d2bbot :{k1d2bbot:.1f}\")\n",
    "\n",
    "    k1d1 = 2 * const.pi * const.G * delta_rho * ((k1d1btop-k1d1htop) - (k1d1bbot-k1d1hbot))\n",
    "    k1d2 = 2 * const.pi * const.G * delta_rho * ((k1d2btop-k1d2htop) - (k1d2bbot-k1d2hbot))\n",
    "\n",
    "    return k1d1, k1d2\n",
    "\n",
    "\n",
    "\n",
    "def k2(delta_rho):\n",
    "    \"\"\"\n",
    "    Computing the forward relation for k=2\n",
    "    \"\"\"\n",
    "\n",
    "    radius = 4700\n",
    "\n",
    "    ## Top cylinder\n",
    "    k2d1htopT = 1000\n",
    "    k2d1hbotT = k2d1htopT+3000\n",
    "    k2d1btopT = ma.sqrt(k2d1htopT**2 + radius**2)\n",
    "    k2d1bbotT = ma.sqrt(k2d1hbotT**2 + radius**2)\n",
    "\n",
    "    k2d2htopT = 500\n",
    "    k2d2hbotT = k2d2htopT+3000\n",
    "    k2d2btopT = ma.sqrt(k2d2htopT**2 + radius**2)\n",
    "    k2d2bbotT = ma.sqrt(k2d2hbotT**2 + radius**2)\n",
    "\n",
    "    #print()\n",
    "    #print(\"Upper cylinder\")\n",
    "    #print(f\"k2d1htopT :{k2d1htopT:.1f}, k2d1hbotT :{k2d1hbotT:.1f}, k2d1btopT :{k2d1btopT:.1f}, k2d1bbotT :{k2d1bbotT:.1f}\")\n",
    "    #print(f\"k2d2htopT :{k2d2htopT:.1f}, k2d2hbotT :{k2d2hbotT:.1f}, k2d2btopT :{k2d2btopT:.1f}, k2d2bbotT :{k2d2bbotT:.1f}\")\n",
    "\n",
    "    ## Bot cylinder\n",
    "    k2d1htopB = 1000+3000\n",
    "    k2d1hbotB = k2d1htopB+1400\n",
    "    k2d1btopB = ma.sqrt(k2d1htopB**2 + radius**2)\n",
    "    k2d1bbotB = ma.sqrt(k2d1hbotB**2 + radius**2)\n",
    "\n",
    "    k2d2htopB = 500+3000\n",
    "    k2d2hbotB = k2d2htopB+1400\n",
    "    k2d2btopB = ma.sqrt(k2d2htopB**2 + radius**2)\n",
    "    k2d2bbotB = ma.sqrt(k2d2hbotB**2 + radius**2)\n",
    "\n",
    "    #print()\n",
    "    #print(\"Lower cylinder\")\n",
    "    #print(f\"k2d1htopB :{k2d1htopB:.1f}, k2d1hbotB :{k2d1hbotB:.1f}, k2d1btopB :{k2d1btopB:.1f}, k2d1bbotB :{k2d1bbotB:.1f}\")\n",
    "    #print(f\"k2d2htopB :{k2d2htopB:.1f}, k2d2hbotB :{k2d2hbotB:.1f}, k2d2btopB :{k2d2btopB:.1f}, k2d2bbotB :{k2d2bbotB:.1f}\")\n",
    "\n",
    "\n",
    "\n",
    "\n",
    "    k2d1T = 2 * const.pi * const.G * delta_rho * ((k2d1btopT-k2d1htopT) - (k2d1bbotT-k2d1hbotT))\n",
    "    k2d1B = 2 * const.pi * const.G * delta_rho * ((k2d1btopB-k2d1htopB) - (k2d1bbotB-k2d1hbotB))\n",
    "    k2d1 = k2d1T+k2d1B\n",
    "\n",
    "    k2d2T = 2 * const.pi * const.G * delta_rho * ((k2d2btopT-k2d2htopT) - (k2d2bbotT-k2d2hbotT))\n",
    "    k2d2B = 2 * const.pi * const.G * delta_rho * ((k2d2btopB-k2d2htopB) - (k2d2bbotB-k2d2hbotB))\n",
    "    k2d2 = k2d2T+k2d2B\n",
    "\n",
    "    return k2d1, k2d2\n",
    "\n",
    "    \n",
    "\n"
   ]
  },
  {
   "cell_type": "code",
   "execution_count": 3,
   "metadata": {},
   "outputs": [
    {
     "data": {
      "text/plain": [
       "(-8.581314732288073e-05, -9.799668412154391e-05)"
      ]
     },
     "execution_count": 3,
     "metadata": {},
     "output_type": "execute_result"
    }
   ],
   "source": [
    "k2(-100)"
   ]
  },
  {
   "cell_type": "code",
   "execution_count": 4,
   "metadata": {},
   "outputs": [
    {
     "data": {
      "text/plain": [
       "(-8.581314732288071e-05, -9.799668412154392e-05)"
      ]
     },
     "execution_count": 4,
     "metadata": {},
     "output_type": "execute_result"
    }
   ],
   "source": [
    "k1(-100)"
   ]
  },
  {
   "cell_type": "code",
   "execution_count": null,
   "metadata": {},
   "outputs": [],
   "source": [
    "adsf"
   ]
  }
 ],
 "metadata": {
  "kernelspec": {
   "display_name": "appstat",
   "language": "python",
   "name": "python3"
  },
  "language_info": {
   "codemirror_mode": {
    "name": "ipython",
    "version": 3
   },
   "file_extension": ".py",
   "mimetype": "text/x-python",
   "name": "python",
   "nbconvert_exporter": "python",
   "pygments_lexer": "ipython3",
   "version": "3.13.0"
  }
 },
 "nbformat": 4,
 "nbformat_minor": 2
}
